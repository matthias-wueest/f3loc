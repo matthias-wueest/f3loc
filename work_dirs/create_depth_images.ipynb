{
 "cells": [
  {
   "cell_type": "code",
   "execution_count": 1,
   "metadata": {},
   "outputs": [
    {
     "data": {
      "text/plain": [
       "PosixPath('/cluster/home/wueestm/f3loc')"
      ]
     },
     "execution_count": 1,
     "metadata": {},
     "output_type": "execute_result"
    }
   ],
   "source": [
    "import os\n",
    "from pathlib import Path\n",
    "\n",
    "root_directory = \"/cluster/home/wueestm/f3loc/\"\n",
    "os.chdir(root_directory)\n",
    "root_directory\n",
    "Path.cwd()"
   ]
  },
  {
   "cell_type": "code",
   "execution_count": 6,
   "metadata": {},
   "outputs": [],
   "source": [
    "import os\n",
    "import cv2\n",
    "import numpy as np\n",
    "from torch.utils.data import Dataset\n",
    "from utils.utils import gravity_align, gravity_align_depth, gravity_align_normal, gravity_align_segmentation\n",
    "from metric3d.hubconf import *\n",
    "from src.depth_image_functions import *\n",
    "import yaml\n",
    "from attrdict import AttrDict"
   ]
  },
  {
   "cell_type": "code",
   "execution_count": 7,
   "metadata": {},
   "outputs": [],
   "source": [
    "dataset = \"hge_customized_complete\" #\"hge_customized_cropped\"\n",
    "dataset_path = \"/cluster/project/cvg/data/lamar/HGE_customized_complete\" #\"/cluster/project/cvg/data/lamar/HGE_customized_cropped\"\n",
    "dataset_dir = os.path.join(dataset_path, dataset)\n",
    "split_file = os.path.join(dataset_dir, \"split.yaml\")\n",
    "with open(split_file, \"r\") as f:\n",
    "    split = AttrDict(yaml.safe_load(f))"
   ]
  },
  {
   "cell_type": "code",
   "execution_count": 8,
   "metadata": {},
   "outputs": [],
   "source": [
    "# train_dataset = GridSeqDataset_hge_customized_metric3d(\n",
    "#     dataset_dir,\n",
    "#     split.train,\n",
    "#     L=L,\n",
    "#     depth_dir=depth_dir,\n",
    "#     depth_suffix=depth_suffix,\n",
    "#     add_rp=add_rp,\n",
    "#     roll=roll,\n",
    "#     pitch=pitch,\n",
    "# )"
   ]
  },
  {
   "cell_type": "code",
   "execution_count": 24,
   "metadata": {},
   "outputs": [],
   "source": [
    "scene_names = split.train\n",
    "start_scene = None\n",
    "end_scene = None\n",
    "L = 0\n",
    "scene_start_idx = []\n",
    "gt_depth = []\n",
    "gt_pose = []\n",
    "rgbs = []\n",
    "K = np.array([[1596, 0, 960], [0, 1596, 720], [0, 0, 1]])"
   ]
  },
  {
   "cell_type": "code",
   "execution_count": 25,
   "metadata": {},
   "outputs": [
    {
     "name": "stdout",
     "output_type": "stream",
     "text": [
      "scene_names:  ('ios_2022-01-12_15.15.53_000', 'ios_2022-01-18_17.05.03_000', 'ios_2022-01-20_16.52.33_001', 'ios_2022-01-25_14.34.24_002', 'ios_2022-01-25_14.57.49_000', 'ios_2022-01-25_15.13.54_000', 'ios_2022-06-13_10.45.07_000', 'ios_2022-06-13_15.59.36_000', 'ios_2022-06-14_17.12.28_000', 'ios_2022-06-30_15.55.53_000', 'ios_2022-07-01_15.18.09_000', 'ios_2022-07-01_15.58.10_000')\n",
      "scene:  ios_2022-01-12_15.15.53_000\n",
      "scene:  ios_2022-01-18_17.05.03_000\n",
      "scene:  ios_2022-01-20_16.52.33_001\n",
      "scene:  ios_2022-01-25_14.34.24_002\n",
      "scene:  ios_2022-01-25_14.57.49_000\n",
      "scene:  ios_2022-01-25_15.13.54_000\n",
      "scene:  ios_2022-06-13_10.45.07_000\n",
      "scene:  ios_2022-06-13_15.59.36_000\n",
      "scene:  ios_2022-06-14_17.12.28_000\n",
      "scene:  ios_2022-06-30_15.55.53_000\n",
      "scene:  ios_2022-07-01_15.18.09_000\n",
      "scene:  ios_2022-07-01_15.58.10_000\n"
     ]
    }
   ],
   "source": [
    "scene_start_idx.append(0)\n",
    "start_idx = 0\n",
    "print(\"scene_names: \", scene_names)\n",
    "for scene in scene_names:\n",
    "    print(\"scene: \", scene)\n",
    "\n",
    "    # read pose\n",
    "    pose_file = os.path.join(dataset_dir, scene, \"poses.txt\")\n",
    "    with open(pose_file, \"r\") as f:\n",
    "        poses_txt = [line.strip() for line in f.readlines()]\n",
    "    traj_len = len(poses_txt)\n",
    "\n",
    "    start_idx += traj_len // (L + 1)\n",
    "    scene_start_idx.append(start_idx)\n"
   ]
  },
  {
   "cell_type": "code",
   "execution_count": 28,
   "metadata": {},
   "outputs": [
    {
     "name": "stdout",
     "output_type": "stream",
     "text": [
      "[0, 579, 733, 1083, 1163, 1647, 1869, 2359, 2700, 2963, 3308, 3615, 3820]\n"
     ]
    }
   ],
   "source": [
    "if start_scene is None:\n",
    "    N = scene_start_idx[-1]\n",
    "else:\n",
    "    # compute N\n",
    "    N = (\n",
    "        scene_start_idx[end_scene + 1]\n",
    "        - scene_start_idx[start_scene]\n",
    "    )\n",
    "print(scene_start_idx)"
   ]
  },
  {
   "cell_type": "code",
   "execution_count": 30,
   "metadata": {},
   "outputs": [
    {
     "data": {
      "text/plain": [
       "3820"
      ]
     },
     "execution_count": 30,
     "metadata": {},
     "output_type": "execute_result"
    }
   ],
   "source": [
    "N"
   ]
  },
  {
   "cell_type": "code",
   "execution_count": 32,
   "metadata": {},
   "outputs": [],
   "source": [
    "start_scene"
   ]
  },
  {
   "cell_type": "code",
   "execution_count": null,
   "metadata": {},
   "outputs": [],
   "source": [
    "for idx in range(N):\n",
    "    if start_scene is not None:\n",
    "        idx += scene_start_idx[start_scene]\n",
    "\n",
    "    # get the scene name according to the idx\n",
    "    scene_idx = np.sum(idx >= np.array(scene_start_idx)) - 1\n",
    "    scene_name = scene_names[scene_idx]\n",
    "\n",
    "    # get idx within scene\n",
    "    idx_within_scene = idx - scene_start_idx[scene_idx]\n",
    "\n",
    "    # get reference image\n",
    "    \n",
    "    image_path = os.path.join(\n",
    "        dataset_dir,\n",
    "        scene_name,\n",
    "        \"rgb\",\n",
    "        str(idx_within_scene).zfill(5) + \"-0\" + \".jpg\",\n",
    "    )\n",
    "    ref_img = cv2.imread(image_path, cv2.IMREAD_COLOR).astype(\n",
    "        np.float32\n",
    "    )  # (H, W, 3)\n",
    "\n",
    "    # get depth image\n",
    "    depth_img = get_depth_image_metric3d(ref_img)\n",
    "    depth_img = depth_img.cpu().numpy()  # Move to CPU and convert to numpy array\n",
    "    #print(\"Depth image done.\")\n"
   ]
  },
  {
   "cell_type": "code",
   "execution_count": null,
   "metadata": {},
   "outputs": [],
   "source": []
  },
  {
   "cell_type": "code",
   "execution_count": null,
   "metadata": {},
   "outputs": [],
   "source": []
  },
  {
   "cell_type": "code",
   "execution_count": null,
   "metadata": {},
   "outputs": [],
   "source": []
  }
 ],
 "metadata": {
  "kernelspec": {
   "display_name": "Python 3 (ipykernel)",
   "language": "python",
   "name": "python3"
  },
  "language_info": {
   "codemirror_mode": {
    "name": "ipython",
    "version": 3
   },
   "file_extension": ".py",
   "mimetype": "text/x-python",
   "name": "python",
   "nbconvert_exporter": "python",
   "pygments_lexer": "ipython3",
   "version": "3.8.19"
  }
 },
 "nbformat": 4,
 "nbformat_minor": 2
}
