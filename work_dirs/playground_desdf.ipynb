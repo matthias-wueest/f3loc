{
 "cells": [
  {
   "cell_type": "code",
   "execution_count": 1,
   "metadata": {},
   "outputs": [
    {
     "data": {
      "text/plain": [
       "PosixPath('/cluster/home/wueestm/f3loc')"
      ]
     },
     "execution_count": 1,
     "metadata": {},
     "output_type": "execute_result"
    }
   ],
   "source": [
    "import os\n",
    "from pathlib import Path\n",
    "\n",
    "root_directory = \"/cluster/home/wueestm/f3loc/\"\n",
    "os.chdir(root_directory)\n",
    "root_directory\n",
    "Path.cwd()"
   ]
  },
  {
   "cell_type": "code",
   "execution_count": 2,
   "metadata": {},
   "outputs": [],
   "source": [
    "import numpy as np"
   ]
  },
  {
   "cell_type": "code",
   "execution_count": 31,
   "metadata": {},
   "outputs": [],
   "source": [
    "filename_desdf = \"desdf_complete_orn_slice_04_resolution_1.npy\"\n",
    "filename_sem_desdf = \"desdf_sem_complete_orn_slice_04_resolution_1.npy\""
   ]
  },
  {
   "cell_type": "code",
   "execution_count": 32,
   "metadata": {},
   "outputs": [],
   "source": [
    "desdf = np.load(filename_desdf)\n",
    "desdf_sem = np.load(filename_sem_desdf)"
   ]
  },
  {
   "cell_type": "code",
   "execution_count": 33,
   "metadata": {},
   "outputs": [
    {
     "name": "stdout",
     "output_type": "stream",
     "text": [
      "(127, 178, 4)\n",
      "(127, 178, 4)\n"
     ]
    }
   ],
   "source": [
    "print(desdf.shape)\n",
    "print(desdf_sem.shape)"
   ]
  },
  {
   "cell_type": "code",
   "execution_count": 34,
   "metadata": {},
   "outputs": [
    {
     "name": "stdout",
     "output_type": "stream",
     "text": [
      "(127, 178, 4)\n",
      "(127, 178, 4)\n"
     ]
    }
   ],
   "source": [
    "print(desdf.shape)\n",
    "print(desdf_sem.shape)"
   ]
  },
  {
   "cell_type": "code",
   "execution_count": 35,
   "metadata": {},
   "outputs": [
    {
     "name": "stdout",
     "output_type": "stream",
     "text": [
      "0.0\n",
      "0.9786339909758471\n",
      "0.019662921348314606\n",
      "0.001703087675838273\n"
     ]
    }
   ],
   "source": [
    "print(desdf_sem[desdf_sem==0].size/ desdf_sem.size)\n",
    "print(desdf_sem[desdf_sem==1].size/ desdf_sem.size)\n",
    "print(desdf_sem[desdf_sem==2].size/ desdf_sem.size)\n",
    "print(desdf_sem[desdf_sem==3].size/ desdf_sem.size)"
   ]
  },
  {
   "cell_type": "code",
   "execution_count": null,
   "metadata": {},
   "outputs": [],
   "source": []
  },
  {
   "cell_type": "code",
   "execution_count": null,
   "metadata": {},
   "outputs": [],
   "source": []
  },
  {
   "cell_type": "code",
   "execution_count": null,
   "metadata": {},
   "outputs": [],
   "source": []
  },
  {
   "cell_type": "code",
   "execution_count": null,
   "metadata": {},
   "outputs": [],
   "source": []
  },
  {
   "cell_type": "code",
   "execution_count": null,
   "metadata": {},
   "outputs": [],
   "source": []
  },
  {
   "cell_type": "code",
   "execution_count": null,
   "metadata": {},
   "outputs": [],
   "source": []
  },
  {
   "cell_type": "code",
   "execution_count": null,
   "metadata": {},
   "outputs": [],
   "source": []
  },
  {
   "cell_type": "code",
   "execution_count": null,
   "metadata": {},
   "outputs": [],
   "source": []
  },
  {
   "cell_type": "code",
   "execution_count": 7,
   "metadata": {},
   "outputs": [],
   "source": [
    "import matplotlib.image as mpimg\n",
    "floorplan_name = \"HG_E_VF_20240215_preparing_occupancy_windows_semantics_rgb.png\" #\"map.png\" #  \"map_cropped.png\" #\n",
    "floorplan = mpimg.imread(floorplan_name)"
   ]
  },
  {
   "cell_type": "code",
   "execution_count": 8,
   "metadata": {},
   "outputs": [],
   "source": [
    "####\n",
    "floorplan_rounded = np.round(floorplan)\n",
    "\n",
    "# Extract semantics\n",
    "map_semantics = np.zeros(floorplan_rounded.shape[:2], dtype=int)\n",
    "map_semantics[np.all(floorplan_rounded == [0, 0, 0], axis=-1)] = 1  # [0, 0, 0] -> 1 (wall)\n",
    "map_semantics[np.all(floorplan_rounded == [1, 0, 0], axis=-1)] = 2  # [1, 0, 0] -> 2 (door)\n",
    "map_semantics[np.all(floorplan_rounded == [0, 1, 0], axis=-1)] = 3  # [0, 1, 0] -> 3 (elevator)"
   ]
  },
  {
   "cell_type": "code",
   "execution_count": 14,
   "metadata": {},
   "outputs": [],
   "source": [
    "# Extract occupancy map\n",
    "map_occupancy = np.ones(floorplan_rounded.shape[:2], dtype=int)\n",
    "map_occupancy[map_semantics==1] = 0\n",
    "map_occupancy[map_semantics==2] = 0\n",
    "map_occupancy[map_semantics==3] = 0"
   ]
  },
  {
   "cell_type": "code",
   "execution_count": 30,
   "metadata": {},
   "outputs": [
    {
     "data": {
      "text/plain": [
       "6850452"
      ]
     },
     "execution_count": 30,
     "metadata": {},
     "output_type": "execute_result"
    }
   ],
   "source": [
    "np.sum([map_semantics==0])"
   ]
  },
  {
   "cell_type": "code",
   "execution_count": 26,
   "metadata": {},
   "outputs": [
    {
     "data": {
      "text/plain": [
       "798020"
      ]
     },
     "execution_count": 26,
     "metadata": {},
     "output_type": "execute_result"
    }
   ],
   "source": [
    "np.sum([map_semantics==1])"
   ]
  },
  {
   "cell_type": "code",
   "execution_count": 27,
   "metadata": {},
   "outputs": [
    {
     "data": {
      "text/plain": [
       "2143"
      ]
     },
     "execution_count": 27,
     "metadata": {},
     "output_type": "execute_result"
    }
   ],
   "source": [
    "np.sum([map_semantics==2])"
   ]
  },
  {
   "cell_type": "code",
   "execution_count": 29,
   "metadata": {},
   "outputs": [
    {
     "data": {
      "text/plain": [
       "237"
      ]
     },
     "execution_count": 29,
     "metadata": {},
     "output_type": "execute_result"
    }
   ],
   "source": [
    "np.sum([map_semantics==3])"
   ]
  },
  {
   "cell_type": "code",
   "execution_count": 17,
   "metadata": {},
   "outputs": [
    {
     "data": {
      "text/plain": [
       "array([[0, 0, 0, ..., 0, 0, 0],\n",
       "       [0, 1, 1, ..., 1, 1, 0],\n",
       "       [0, 1, 1, ..., 1, 1, 0],\n",
       "       ...,\n",
       "       [0, 1, 1, ..., 1, 1, 0],\n",
       "       [0, 1, 1, ..., 1, 1, 0],\n",
       "       [0, 0, 0, ..., 0, 0, 0]])"
      ]
     },
     "execution_count": 17,
     "metadata": {},
     "output_type": "execute_result"
    }
   ],
   "source": [
    "map_occupancy"
   ]
  },
  {
   "cell_type": "code",
   "execution_count": null,
   "metadata": {},
   "outputs": [],
   "source": []
  },
  {
   "cell_type": "markdown",
   "metadata": {},
   "source": [
    "#### Test calc_desdf"
   ]
  },
  {
   "cell_type": "code",
   "execution_count": null,
   "metadata": {},
   "outputs": [],
   "source": [
    "pixel_per_meter = 18.315046895211292\n",
    "\n",
    "occ = map_occupancy\n",
    "sem = map_semantics\n",
    "orn_slice=36\n",
    "max_dist=10\n",
    "original_resolution=0.01\n",
    "resolution=0.1"
   ]
  },
  {
   "cell_type": "code",
   "execution_count": null,
   "metadata": {},
   "outputs": [],
   "source": [
    "ratio = resolution / original_resolution\n",
    "h, w = occ.shape\n",
    "desdf_shape = (int(h // ratio), int(w // ratio), orn_slice)\n",
    "desdf = np.zeros(desdf_shape)\n",
    "desdf_sem = np.zeros(desdf_shape)"
   ]
  },
  {
   "cell_type": "code",
   "execution_count": null,
   "metadata": {},
   "outputs": [],
   "source": []
  }
 ],
 "metadata": {
  "kernelspec": {
   "display_name": "Python 3 (ipykernel)",
   "language": "python",
   "name": "python3"
  },
  "language_info": {
   "codemirror_mode": {
    "name": "ipython",
    "version": 3
   },
   "file_extension": ".py",
   "mimetype": "text/x-python",
   "name": "python",
   "nbconvert_exporter": "python",
   "pygments_lexer": "ipython3",
   "version": "3.8.19"
  }
 },
 "nbformat": 4,
 "nbformat_minor": 2
}
