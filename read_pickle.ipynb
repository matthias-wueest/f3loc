{
 "cells": [
  {
   "cell_type": "code",
   "execution_count": 2,
   "metadata": {},
   "outputs": [],
   "source": [
    "import numpy as np"
   ]
  },
  {
   "cell_type": "code",
   "execution_count": 3,
   "metadata": {},
   "outputs": [],
   "source": [
    "filepath = \"/cluster/home/wueestm/f3loc/evol_path/hge_customized_complete/depthanything_72traj_len_100_dt_1_vits_eval_02/pretty_filter_extended/results.pkl\"\n",
    "\n",
    "results = np.load(filepath, allow_pickle=True)"
   ]
  },
  {
   "cell_type": "code",
   "execution_count": 5,
   "metadata": {},
   "outputs": [
    {
     "data": {
      "text/plain": [
       "dict_keys(['per_frame', 'per_seq', 'overall'])"
      ]
     },
     "execution_count": 5,
     "metadata": {},
     "output_type": "execute_result"
    }
   ],
   "source": [
    "results.keys()"
   ]
  },
  {
   "cell_type": "code",
   "execution_count": 6,
   "metadata": {},
   "outputs": [
    {
     "data": {
      "text/plain": [
       "dict_keys(['mean_mean_depth_MAE', 'mean_mean_depth_cos_sim', 'mean_mean_ray_MAE', 'mean_mean_obs_pos_err', 'mean_mean_obs_orn_err', 'mean_mean_post_pos_err', 'mean_mean_post_orn_err', 'mean_recalls', 'mean_successes', 'mean_RMSEs'])"
      ]
     },
     "execution_count": 6,
     "metadata": {},
     "output_type": "execute_result"
    }
   ],
   "source": [
    "results[\"overall\"].keys()"
   ]
  },
  {
   "cell_type": "code",
   "execution_count": 8,
   "metadata": {},
   "outputs": [
    {
     "data": {
      "text/plain": [
       "array([0.81818182, 0.18181818, 0.        , 0.        ])"
      ]
     },
     "execution_count": 8,
     "metadata": {},
     "output_type": "execute_result"
    }
   ],
   "source": [
    "results[\"overall\"][\"mean_successes\"]"
   ]
  },
  {
   "cell_type": "code",
   "execution_count": 9,
   "metadata": {},
   "outputs": [
    {
     "data": {
      "text/plain": [
       "2.954063898564789"
      ]
     },
     "execution_count": 9,
     "metadata": {},
     "output_type": "execute_result"
    }
   ],
   "source": [
    "results[\"overall\"][\"mean_RMSEs\"]"
   ]
  },
  {
   "cell_type": "code",
   "execution_count": 11,
   "metadata": {},
   "outputs": [
    {
     "data": {
      "text/plain": [
       "[array(0.40779285),\n",
       " array(28.00595606),\n",
       " array(0.44195249),\n",
       " array(0.24645948),\n",
       " array(0.4653098),\n",
       " array(0.48281938),\n",
       " array(0.43218166),\n",
       " array(0.61121901),\n",
       " array(0.28631158),\n",
       " array(0.65880501),\n",
       " array(0.45589556)]"
      ]
     },
     "execution_count": 11,
     "metadata": {},
     "output_type": "execute_result"
    }
   ],
   "source": [
    "results[\"per_seq\"][\"RMSEs_all_ls\"]"
   ]
  },
  {
   "cell_type": "code",
   "execution_count": 14,
   "metadata": {},
   "outputs": [
    {
     "data": {
      "text/plain": [
       "dict_keys(['mean_depth_MAE_ls', 'mean_depth_cos_sim_ls', 'mean_ray_MAE_ls', 'mean_obs_pos_err_ls', 'mean_obs_orn_err_ls', 'mean_post_pos_err_ls', 'mean_post_orn_err_ls', 'recalls_all_ls', 'successes_all_ls', 'RMSEs_all_ls'])"
      ]
     },
     "execution_count": 14,
     "metadata": {},
     "output_type": "execute_result"
    }
   ],
   "source": [
    "results[\"per_seq\"].keys()"
   ]
  },
  {
   "cell_type": "code",
   "execution_count": 18,
   "metadata": {},
   "outputs": [
    {
     "data": {
      "text/plain": [
       "array([ True, False, False, False])"
      ]
     },
     "execution_count": 18,
     "metadata": {},
     "output_type": "execute_result"
    }
   ],
   "source": [
    "results[\"per_seq\"][\"successes_all_ls\"][:][0]"
   ]
  },
  {
   "cell_type": "code",
   "execution_count": 20,
   "metadata": {},
   "outputs": [
    {
     "data": {
      "text/plain": [
       "[array([ True, False, False, False]),\n",
       " array([False, False, False, False]),\n",
       " array([ True, False, False, False]),\n",
       " array([ True,  True, False, False]),\n",
       " array([ True, False, False, False]),\n",
       " array([ True, False, False, False]),\n",
       " array([ True, False, False, False]),\n",
       " array([False, False, False, False]),\n",
       " array([ True,  True, False, False]),\n",
       " array([ True, False, False, False]),\n",
       " array([ True, False, False, False])]"
      ]
     },
     "execution_count": 20,
     "metadata": {},
     "output_type": "execute_result"
    }
   ],
   "source": [
    "results[\"per_seq\"][\"successes_all_ls\"]"
   ]
  },
  {
   "cell_type": "code",
   "execution_count": 21,
   "metadata": {},
   "outputs": [
    {
     "ename": "TypeError",
     "evalue": "list indices must be integers or slices, not tuple",
     "output_type": "error",
     "traceback": [
      "\u001b[0;31m---------------------------------------------------------------------------\u001b[0m",
      "\u001b[0;31mTypeError\u001b[0m                                 Traceback (most recent call last)",
      "Cell \u001b[0;32mIn[21], line 1\u001b[0m\n\u001b[0;32m----> 1\u001b[0m \u001b[43mresults\u001b[49m\u001b[43m[\u001b[49m\u001b[38;5;124;43m\"\u001b[39;49m\u001b[38;5;124;43mper_seq\u001b[39;49m\u001b[38;5;124;43m\"\u001b[39;49m\u001b[43m]\u001b[49m\u001b[43m[\u001b[49m\u001b[38;5;124;43m\"\u001b[39;49m\u001b[38;5;124;43msuccesses_all_ls\u001b[39;49m\u001b[38;5;124;43m\"\u001b[39;49m\u001b[43m]\u001b[49m\u001b[43m[\u001b[49m\u001b[43m:\u001b[49m\u001b[43m,\u001b[49m\u001b[38;5;241;43m0\u001b[39;49m\u001b[43m]\u001b[49m\n",
      "\u001b[0;31mTypeError\u001b[0m: list indices must be integers or slices, not tuple"
     ]
    }
   ],
   "source": [
    "results[\"per_seq\"][\"successes_all_ls\"]"
   ]
  },
  {
   "cell_type": "code",
   "execution_count": 24,
   "metadata": {},
   "outputs": [
    {
     "data": {
      "text/plain": [
       "[array(0.40779285),\n",
       " array(28.00595606),\n",
       " array(0.44195249),\n",
       " array(0.24645948),\n",
       " array(0.4653098),\n",
       " array(0.48281938),\n",
       " array(0.43218166),\n",
       " array(0.61121901),\n",
       " array(0.28631158),\n",
       " array(0.65880501),\n",
       " array(0.45589556)]"
      ]
     },
     "execution_count": 24,
     "metadata": {},
     "output_type": "execute_result"
    }
   ],
   "source": [
    "results[\"per_seq\"][\"RMSEs_all_ls\"]"
   ]
  },
  {
   "cell_type": "code",
   "execution_count": 26,
   "metadata": {},
   "outputs": [
    {
     "name": "stdout",
     "output_type": "stream",
     "text": [
      "Mean: 0.43083642333333333\n"
     ]
    }
   ],
   "source": [
    "import numpy as np\n",
    "\n",
    "# Original array of values\n",
    "values = [\n",
    "    np.array(0.40779285),\n",
    "    #np.array(28.00595606),\n",
    "    np.array(0.44195249),\n",
    "    np.array(0.24645948),\n",
    "    np.array(0.4653098),\n",
    "    np.array(0.48281938),\n",
    "    np.array(0.43218166),\n",
    "    #np.array(0.61121901),\n",
    "    np.array(0.28631158),\n",
    "    np.array(0.65880501),\n",
    "    np.array(0.45589556)\n",
    "]\n",
    "\n",
    "# Convert to a single numpy array and calculate the mean\n",
    "mean_value = np.mean(values)\n",
    "\n",
    "print(\"Mean:\", mean_value)\n"
   ]
  },
  {
   "cell_type": "code",
   "execution_count": null,
   "metadata": {},
   "outputs": [],
   "source": []
  },
  {
   "cell_type": "code",
   "execution_count": null,
   "metadata": {},
   "outputs": [],
   "source": [
    "print(\"mean RMSE succeeded : \", RMSEs[success_10].mean())"
   ]
  },
  {
   "cell_type": "code",
   "execution_count": null,
   "metadata": {},
   "outputs": [],
   "source": []
  }
 ],
 "metadata": {
  "kernelspec": {
   "display_name": "Python 3 (ipykernel)",
   "language": "python",
   "name": "python3"
  },
  "language_info": {
   "codemirror_mode": {
    "name": "ipython",
    "version": 3
   },
   "file_extension": ".py",
   "mimetype": "text/x-python",
   "name": "python",
   "nbconvert_exporter": "python",
   "pygments_lexer": "ipython3",
   "version": "3.8.19"
  }
 },
 "nbformat": 4,
 "nbformat_minor": 2
}
